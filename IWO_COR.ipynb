{
  "nbformat": 4,
  "nbformat_minor": 0,
  "metadata": {
    "kernelspec": {
      "display_name": "Python 3",
      "language": "python",
      "name": "python3"
    },
    "language_info": {
      "codemirror_mode": {
        "name": "ipython",
        "version": 3
      },
      "file_extension": ".py",
      "mimetype": "text/x-python",
      "name": "python",
      "nbconvert_exporter": "python",
      "pygments_lexer": "ipython3",
      "version": "3.7.6"
    },
    "colab": {
      "provenance": [],
      "collapsed_sections": [
        "b3vPcctYqUMe"
      ],
      "include_colab_link": true
    }
  },
  "cells": [
    {
      "cell_type": "markdown",
      "metadata": {
        "id": "view-in-github",
        "colab_type": "text"
      },
      "source": [
        "<a href=\"https://colab.research.google.com/github/RaminTKhameneh/NCMBCP/blob/main/IWO_COR.ipynb\" target=\"_parent\"><img src=\"https://colab.research.google.com/assets/colab-badge.svg\" alt=\"Open In Colab\"/></a>"
      ]
    },
    {
      "cell_type": "markdown",
      "metadata": {
        "id": "b3vPcctYqUMe"
      },
      "source": [
        "# **Import Colab**"
      ]
    },
    {
      "cell_type": "code",
      "metadata": {
        "id": "N7UDLrdKm53B",
        "colab": {
          "base_uri": "https://localhost:8080/"
        },
        "outputId": "859e7841-4612-45c5-c24f-18b91ba53cab"
      },
      "source": [
        "from google.colab import drive\n",
        "drive.mount('/content/drive/')"
      ],
      "execution_count": null,
      "outputs": [
        {
          "output_type": "stream",
          "name": "stdout",
          "text": [
            "Mounted at /content/drive/\n"
          ]
        }
      ]
    },
    {
      "cell_type": "markdown",
      "metadata": {
        "id": "EipeEWTX8czP"
      },
      "source": [
        "# **Libraries**"
      ]
    },
    {
      "cell_type": "code",
      "metadata": {
        "id": "sQq6zreL8bka"
      },
      "source": [
        "import numpy as np\n",
        "from copy import deepcopy as dc\n",
        "from time import process_time\n",
        "import random\n",
        "from math import exp, floor"
      ],
      "execution_count": null,
      "outputs": []
    },
    {
      "cell_type": "markdown",
      "metadata": {
        "id": "FFb-KsktAgc6"
      },
      "source": [
        "# **Read the Data**"
      ]
    },
    {
      "cell_type": "code",
      "metadata": {
        "id": "DJQlKM24AQgO"
      },
      "source": [
        "def Read_location(file):\n",
        "    f = open('/content/drive/MyDrive/Colab Notebooks/MBCP/'+file, 'r')\n",
        "    data = []\n",
        "    for line in f:\n",
        "        data.append([float(v) for v in line.split()])\n",
        "    f.close()\n",
        "    return data\n",
        "\n",
        "def Read_donation(file):\n",
        "    f = open('/content/drive/MyDrive/Colab Notebooks/MBCP/'+file, 'r')\n",
        "    data = []\n",
        "    for line in f:\n",
        "        data.append([float(v) for v in line.split()])\n",
        "    f.close()\n",
        "    return data"
      ],
      "execution_count": null,
      "outputs": []
    },
    {
      "cell_type": "markdown",
      "metadata": {
        "id": "NXhPVvjVAfz6"
      },
      "source": [
        "# **Main Functions**"
      ]
    },
    {
      "cell_type": "markdown",
      "metadata": {
        "id": "2bdyNhtHGdML"
      },
      "source": [
        "Common functions"
      ]
    },
    {
      "cell_type": "code",
      "metadata": {
        "id": "-iwASYP9mzuW"
      },
      "source": [
        "def duration(rout,total_distance):\n",
        "    dur = 0\n",
        "    for i in range(len(rout) -1) :\n",
        "        dur+= total_distance[rout[i]][rout[i+1]]\n",
        "    return dur\n",
        "\n",
        "def degree_n_poss(old_poss,first_list,total_distance):\n",
        "    new_poss = []\n",
        "    for i in old_poss :\n",
        "        for j in first_list :\n",
        "            if duration (i+[j,0],total_distance) <= spt and j not in i:\n",
        "                new_poss.append(i+[j])\n",
        "    return new_poss\n",
        "\n",
        "def minTest(roots,total_distance):\n",
        "    minimumTest = []\n",
        "    for i in roots:\n",
        "        minimumTest.append(duration(i,total_distance))\n",
        "    minimum = min(minimumTest)\n",
        "    return minimum\n",
        "\n",
        "def meetTime(rout,start_time,total_distance):\n",
        "    meet_time = [start_time]\n",
        "    for i in range(len(rout)-1):\n",
        "        meet_time.append(start_time + duration([rout[i],rout[i+1]],total_distance))\n",
        "        start_time = meet_time[-1]\n",
        "    return meet_time\n",
        "\n",
        "def multi_healthy_collected_plt (rout,start_time,donation_data,spt,total_distance):\n",
        "    don_data = dc(donation_data)\n",
        "    pick_list = []\n",
        "    for i in range(len(rout)):\n",
        "        meet_time = meetTime(rout[i],start_time[i],total_distance)\n",
        "        pickup = []\n",
        "        for j in range(len(rout[i])):\n",
        "            p = 0\n",
        "            for k in range(len(don_data[rout[i][j]])):\n",
        "                if don_data[rout[i][j]][k] <= meet_time[j] and don_data[rout[i][j]][k] >= meet_time[-1]-spt:\n",
        "                    p += 1\n",
        "                    don_data[rout[i][j]][k] = 99999\n",
        "            pickup.append(p)\n",
        "        pick_list.append(sum(pickup))\n",
        "    return sum(pick_list)\n",
        "\n",
        "def random_start (remain,multipleRout,total_distance):\n",
        "    size = len(multipleRout) + 1\n",
        "    temp = np.random.dirichlet(np.ones(size),size=1)[0]\n",
        "    finalRemain = [np.floor(num) for num in (temp * (remain+1))]\n",
        "    finalRemain.pop()\n",
        "    for i in range(len(finalRemain)-1):\n",
        "        finalRemain[i+1] += finalRemain[i]\n",
        "    times = [0]\n",
        "    for rout in multipleRout:\n",
        "        times.append(meetTime(rout,times[-1],total_distance)[-1])\n",
        "    times.pop()\n",
        "    for i in range(len(times)):\n",
        "        times[i] = times[i] + finalRemain[i]\n",
        "    return times\n",
        "\n",
        "def improved_st (initial_sol,initial_time,donation_data,spt,total_distance):\n",
        "    solution = dc(initial_sol)\n",
        "    start_time = dc(initial_time)\n",
        "    rem_time = work_hours - sum([duration(i,total_distance) for i in solution])\n",
        "    if rem_time < 0 :\n",
        "        return initial_time\n",
        "    else:\n",
        "        for i in range(15):\n",
        "            temp_start_time = random_start (rem_time,solution,total_distance)\n",
        "            if multi_healthy_collected_plt(solution,start_time,donation_data,spt,total_distance) < multi_healthy_collected_plt(solution,temp_start_time,donation_data,spt,total_distance):\n",
        "                start_time = dc(temp_start_time)\n",
        "        return start_time\n",
        "\n",
        "def initial_timing (sol,total_distance):\n",
        "    initial_time = ([duration(i,total_distance) for i in sol])\n",
        "    for i in range(len(initial_time)-1) :\n",
        "        initial_time[i+1] = initial_time[i]+initial_time[i+1]\n",
        "    initial_time = [0]+initial_time\n",
        "    initial_time.pop()\n",
        "    return initial_time\n",
        "\n",
        "def updating_donation_list (rout,start_time,donation_data,total_distance):\n",
        "    don_data = dc(donation_data)\n",
        "    global spt\n",
        "    for i in range(len(rout)):\n",
        "        meet_time = meetTime(rout[i],start_time[i],total_distance)\n",
        "        for j in range(len(rout[i])):\n",
        "            for k in range(len(don_data[rout[i][j]])):\n",
        "                if don_data[rout[i][j]][k] <= meet_time[j] and don_data[rout[i][j]][k] >= meet_time[-1]-spt:\n",
        "                    don_data[rout[i][j]][k] = 99999\n",
        "    return don_data\n",
        "\n"
      ],
      "execution_count": null,
      "outputs": []
    },
    {
      "cell_type": "markdown",
      "metadata": {
        "id": "ruBzenvFHIPx"
      },
      "source": [
        "Creating Initial Population"
      ]
    },
    {
      "cell_type": "code",
      "metadata": {
        "id": "f044PsCxHH8L"
      },
      "source": [
        "def initial_population(population_size,roots,min_test,work_hours,donation_data,spt,total_distance):\n",
        "    population = []\n",
        "    population_timing = []\n",
        "    for i in range(population_size):\n",
        "        multiSeq = []\n",
        "        multiTime = [0]\n",
        "        a = dc(random.choice (roots)) \n",
        "        multiTime.append(duration(a,total_distance)+multiTime[-1])\n",
        "        multiSeq.append(a)\n",
        "        while  multiTime[-1] + min_test < work_hours :\n",
        "            a = dc(random.choice (roots))\n",
        "            multiSeq.append(a)\n",
        "            multiTime.append(multiTime[-1]+duration(a,total_distance))\n",
        "        multiTime = multiTime[:-2]\n",
        "        multiSeq.pop()\n",
        "        population.append(multiSeq)\n",
        "        population_timing.append(improved_st (multiSeq,multiTime,donation_data,spt,total_distance))\n",
        "    return population,population_timing\n",
        "\n",
        "def chrom_pool (donation_data,spt,the_size,total_distance):\n",
        "    x = list(range(1,len(donation_data)))\n",
        "    first_list = []\n",
        "    for i in x:\n",
        "        if duration([i,0],total_distance) <= spt :\n",
        "            first_list.append(i)\n",
        "    poss_one = [[i]for i in first_list]\n",
        "    old_poss = poss_one\n",
        "    final_list = poss_one\n",
        "    while len(final_list) < the_size and len(old_poss) > 0 :\n",
        "        old_poss = degree_n_poss(old_poss,first_list,total_distance)\n",
        "        final_list.extend(old_poss)      \n",
        "    routs =final_list\n",
        "    roots = [[0]+i+[0] for i in routs]\n",
        "    return roots"
      ],
      "execution_count": null,
      "outputs": []
    },
    {
      "cell_type": "markdown",
      "metadata": {
        "id": "oI4gz74EAZkR"
      },
      "source": [
        "# **verification**"
      ]
    },
    {
      "cell_type": "code",
      "metadata": {
        "id": "95COje3hAVOY"
      },
      "source": [
        "def counting_check (rout,start_time,donation_data,total_distance,spt,best_result):\n",
        "    don_data = dc(donation_data)\n",
        "    for z in range(len(rout)):\n",
        "        for i in range(len(rout[z])):\n",
        "            meet_time = meetTime(rout[z][i],start_time[z][i],total_distance)\n",
        "            for j in range(len(rout[z][i])):\n",
        "                for k in range(len(don_data[rout[z][i][j]])):\n",
        "                    if don_data[rout[z][i][j]][k] <= meet_time[j] and don_data[rout[z][i][j]][k] >= meet_time[-1]-spt:\n",
        "                        don_data[rout[z][i][j]][k] = 88888\n",
        "    counter  = 0\n",
        "    for row in don_data :\n",
        "        for item in row :\n",
        "            if item == 88888 :\n",
        "                counter +=1\n",
        "    if counter != sum(best_result):\n",
        "        print('there is a conflict')\n",
        "\n",
        "def CP_check(donation_data,best_result):\n",
        "    counter = 0\n",
        "    for i in donation_data:\n",
        "        for j in i :\n",
        "            if j == 99999:\n",
        "                counter+=1\n",
        "    if counter != sum(best_result):\n",
        "        ('there is a conflict in CP counting')\n",
        "        \n",
        "def time_conflict(routes,timing,total_distance):\n",
        "    for i in range(len(routes)):\n",
        "        flag = 0\n",
        "        for j in range(len(routes[i])-1):\n",
        "            if timing[i][j]+duration(routes[i][j],total_distance)> timing [i][j+1]:\n",
        "            #     pass\n",
        "            # else:\n",
        "                flag = 1\n",
        "                break\n",
        "        if flag == 1 :\n",
        "            print('there is a conflict between timings for vehicle: ', i+1)\n",
        "            print(timing[i])\n",
        "            print(routes[i])\n",
        "            break"
      ],
      "execution_count": null,
      "outputs": []
    },
    {
      "cell_type": "code",
      "metadata": {
        "id": "3aw6f3X7sM8v"
      },
      "source": [
        "def two_opt(tour_org,total_distance,spt, iter, MaxIter, sigma_initial, sigma_final, roots):\n",
        "    tour = dc(tour_org)\n",
        "    if  random.uniform(0,1) > 0.85: ############## 0.4 ==> 0.7 ==>\n",
        "        opt1 = random.randint(0,len(tour)-1)\n",
        "        opt2 = random.randint(0,len(tour)-1)\n",
        "        tour[opt1],tour[opt2] = tour[opt2],tour[opt1]\n",
        "    else:\n",
        "        opt1 = random.randint(0,len(tour)-1)\n",
        "        new_route = dc(random.choice (roots))\n",
        "        tour[opt1] = new_route\n",
        "    timing = initial_timing (tour,total_distance)\n",
        "    timing = spatial_st (tour,timing,donation_data,spt,total_distance, iter, MaxIter, sigma_initial,sigma_final)\n",
        "    return tour, timing\n",
        "\n",
        "\n",
        "def weak_del (fitness,population,population_timing,p_min):\n",
        "    for i in range(len(fitness)):\n",
        "        if len(fitness) <= p_min:\n",
        "            break\n",
        "        weak_id = dc(np.argmin(fitness))\n",
        "        population.pop(weak_id)\n",
        "        population_timing.pop(weak_id)\n",
        "        fitness.pop(weak_id)\n",
        "    return fitness,population,population_timing\n",
        "\n"
      ],
      "execution_count": null,
      "outputs": []
    },
    {
      "cell_type": "markdown",
      "metadata": {
        "id": "Ps7NknlZNXfM"
      },
      "source": [
        "**spatial**"
      ]
    },
    {
      "cell_type": "code",
      "metadata": {
        "id": "3eJbWmWlNW5Z"
      },
      "source": [
        "def spatial_st (initial_sol,initial_time,donation_data,spt,total_distance,iter, MaxIter, sigma_initial,sigma_final):\n",
        "    solution = dc(initial_sol)\n",
        "    start_time = dc(initial_time)\n",
        "    rem_time = work_hours - sum([duration(i,total_distance) for i in solution])\n",
        "    if rem_time < 0 :\n",
        "        return initial_time\n",
        "    else:\n",
        "        spatial_range = dc(spatial(iter, MaxIter, sigma_initial,sigma_final))\n",
        "        for i in range(spatial_range):\n",
        "            temp_start_time = random_start (rem_time,solution,total_distance)\n",
        "            if multi_healthy_collected_plt(solution,start_time,donation_data,spt,total_distance) < multi_healthy_collected_plt(solution,temp_start_time,donation_data,spt,total_distance):\n",
        "                start_time = dc(temp_start_time)\n",
        "        return start_time\n",
        "\n",
        "\n",
        "def spatial(iter, MaxIter, sigma_initial,sigma_final):\n",
        "    sigma = (((MaxIter - iter)/(MaxIter - 1))**2) * (sigma_initial - sigma_final) + sigma_final;\n",
        "    return (int(sigma*15)+1)\n"
      ],
      "execution_count": null,
      "outputs": []
    },
    {
      "cell_type": "markdown",
      "metadata": {
        "id": "lwLnBX1C9jkL"
      },
      "source": [
        "# **Problem Configuration**"
      ]
    },
    {
      "cell_type": "code",
      "metadata": {
        "id": "zAu4_N4Gmzub"
      },
      "source": [
        "\n",
        "dons = ('don1.txt','don2.txt','don3.txt','don4.txt','don5.txt','don6.1.txt','don7.txt')\n",
        "\n",
        "locs = ('loc1.1.txt','loc2.1.txt','loc3.1.txt','loc4.1.txt','loc5.1.txt','loc6.1.txt','loc7.1.txt')\n",
        "\n",
        "vehicle_num = (6,6,7,8,9,10,10)\n",
        "spoil_time = (300,500,700)\n",
        "\n",
        "sigma_initial = 1\n",
        "sigma_final = 0.01\n",
        "MaxIter = 25      ###################### 30  ==> 25\n",
        "\n"
      ],
      "execution_count": null,
      "outputs": []
    },
    {
      "cell_type": "code",
      "metadata": {
        "colab": {
          "base_uri": "https://localhost:8080/"
        },
        "id": "dFG8CS2ohYCP",
        "outputId": "f3a329c0-c0bb-4a53-9145-3aef76b1fecb"
      },
      "source": [
        "for i in range(7):\n",
        "    print(len(Read_location(locs[i])))\n",
        "    # print(Read_location(locs[i]))\n",
        "    # print()\n"
      ],
      "execution_count": null,
      "outputs": [
        {
          "output_type": "stream",
          "name": "stdout",
          "text": [
            "28\n",
            "32\n",
            "36\n",
            "38\n",
            "43\n",
            "46\n",
            "51\n"
          ]
        }
      ]
    },
    {
      "cell_type": "code",
      "source": [
        "a = [[0.0, 380.0, 410.0, 309.0, 403.0, 425.0, 304.0, 367.0, 500.0, 331.0, 408.0, 430.0, 314.0, 314.0, 117.0, 171.0, 216.0, 220.0, 131.0, 299.0, 114.0, 277.0, 103.0, 108.0, 358.0, 354.0, 400.0, 347.0], [380.0, 0.0, 32.0, 248.0, 377.0, 381.0, 199.0, 421.0, 241.0, 253.0, 44.0, 160.0, 137.0, 377.0, 262.0, 234.0, 209.0, 400.0, 445.0, 436.0, 370.0, 151.0, 464.0, 327.0, 452.0, 31.0, 324.0, 119.0], [410.0, 32.0, 0.0, 258.0, 380.0, 382.0, 209.0, 429.0, 222.0, 260.0, 23.0, 147.0, 149.0, 389.0, 292.0, 266.0, 241.0, 419.0, 477.0, 450.0, 402.0, 169.0, 492.0, 359.0, 462.0, 56.0, 325.0, 125.0], [309.0, 248.0, 258.0, 0.0, 139.0, 151.0, 49.0, 171.0, 210.0, 22.0, 239.0, 170.0, 111.0, 131.0, 235.0, 283.0, 300.0, 190.0, 429.0, 198.0, 375.0, 110.0, 340.0, 334.0, 204.0, 219.0, 104.0, 133.0], [403.0, 377.0, 380.0, 139.0, 0.0, 24.0, 185.0, 82.0, 250.0, 127.0, 359.0, 256.0, 245.0, 100.0, 357.0, 415.0, 436.0, 212.0, 533.0, 165.0, 489.0, 250.0, 401.0, 453.0, 126.0, 351.0, 59.0, 257.0], [425.0, 381.0, 382.0, 151.0, 24.0, 0.0, 195.0, 103.0, 237.0, 136.0, 360.0, 252.0, 252.0, 124.0, 376.0, 431.0, 451.0, 236.0, 554.0, 188.0, 510.0, 260.0, 426.0, 473.0, 146.0, 356.0, 57.0, 262.0], [304.0, 199.0, 209.0, 49.0, 185.0, 195.0, 0.0, 221.0, 196.0, 59.0, 192.0, 139.0, 62.0, 178.0, 215.0, 252.0, 263.0, 223.0, 417.0, 242.0, 357.0, 64.0, 350.0, 314.0, 252.0, 170.0, 142.0, 86.0], [367.0, 421.0, 429.0, 171.0, 82.0, 103.0, 221.0, 0.0, 327.0, 169.0, 410.0, 321.0, 284.0, 56.0, 344.0, 412.0, 441.0, 154.0, 498.0, 89.0, 465.0, 277.0, 347.0, 434.0, 43.0, 391.0, 134.0, 304.0], [500.0, 241.0, 222.0, 210.0, 250.0, 237.0, 196.0, 327.0, 0.0, 193.0, 200.0, 84.0, 192.0, 313.0, 401.0, 416.0, 411.0, 398.0, 605.0, 389.0, 539.0, 227.0, 546.0, 494.0, 369.0, 233.0, 191.0, 167.0], [331.0, 253.0, 260.0, 22.0, 127.0, 136.0, 59.0, 169.0, 193.0, 0.0, 241.0, 160.0, 118.0, 135.0, 256.0, 302.0, 318.0, 205.0, 452.0, 206.0, 397.0, 123.0, 361.0, 356.0, 205.0, 225.0, 85.0, 135.0], [408.0, 44.0, 23.0, 239.0, 359.0, 360.0, 192.0, 410.0, 200.0, 241.0, 0.0, 124.0, 132.0, 370.0, 292.0, 271.0, 250.0, 405.0, 481.0, 434.0, 407.0, 157.0, 486.0, 363.0, 444.0, 56.0, 303.0, 106.0], [430.0, 160.0, 147.0, 170.0, 256.0, 252.0, 139.0, 321.0, 84.0, 160.0, 124.0, 0.0, 116.0, 294.0, 324.0, 334.0, 327.0, 359.0, 529.0, 367.0, 460.0, 152.0, 486.0, 415.0, 361.0, 149.0, 197.0, 85.0], [314.0, 137.0, 149.0, 111.0, 245.0, 252.0, 62.0, 284.0, 192.0, 118.0, 132.0, 116.0, 0.0, 240.0, 209.0, 225.0, 227.0, 273.0, 413.0, 301.0, 346.0, 36.0, 376.0, 301.0, 314.0, 107.0, 197.0, 34.0], [314.0, 377.0, 389.0, 131.0, 100.0, 124.0, 178.0, 56.0, 313.0, 135.0, 370.0, 294.0, 240.0, 0.0, 288.0, 356.0, 386.0, 111.0, 446.0, 75.0, 410.0, 229.0, 303.0, 378.0, 74.0, 347.0, 131.0, 264.0], [117.0, 262.0, 292.0, 235.0, 357.0, 376.0, 215.0, 344.0, 401.0, 256.0, 292.0, 324.0, 209.0, 288.0, 0.0, 78.0, 120.0, 231.0, 204.0, 302.0, 141.0, 172.0, 208.0, 99.0, 350.0, 236.0, 338.0, 239.0], [171.0, 234.0, 266.0, 283.0, 415.0, 431.0, 252.0, 412.0, 416.0, 302.0, 271.0, 334.0, 225.0, 356.0, 78.0, 0.0, 44.0, 308.0, 210.0, 377.0, 136.0, 194.0, 273.0, 93.0, 422.0, 215.0, 387.0, 248.0], [216.0, 209.0, 241.0, 300.0, 436.0, 451.0, 263.0, 441.0, 411.0, 318.0, 250.0, 327.0, 227.0, 386.0, 120.0, 44.0, 0.0, 346.0, 243.0, 412.0, 168.0, 201.0, 318.0, 129.0, 454.0, 195.0, 404.0, 245.0], [220.0, 400.0, 419.0, 190.0, 212.0, 236.0, 223.0, 154.0, 398.0, 205.0, 405.0, 359.0, 273.0, 111.0, 231.0, 308.0, 346.0, 0.0, 351.0, 78.0, 328.0, 248.0, 193.0, 304.0, 137.0, 368.0, 235.0, 305.0], [131.0, 445.0, 477.0, 429.0, 533.0, 554.0, 417.0, 498.0, 605.0, 452.0, 481.0, 529.0, 413.0, 446.0, 204.0, 210.0, 243.0, 351.0, 0.0, 429.0, 75.0, 377.0, 192.0, 118.0, 488.0, 425.0, 526.0, 443.0], [299.0, 436.0, 450.0, 198.0, 165.0, 188.0, 242.0, 89.0, 389.0, 206.0, 434.0, 367.0, 301.0, 75.0, 302.0, 377.0, 412.0, 78.0, 429.0, 0.0, 406.0, 284.0, 264.0, 380.0, 61.0, 405.0, 205.0, 329.0], [114.0, 370.0, 402.0, 375.0, 489.0, 510.0, 357.0, 465.0, 539.0, 397.0, 407.0, 460.0, 346.0, 410.0, 141.0, 136.0, 168.0, 328.0, 75.0, 406.0, 0.0, 311.0, 207.0, 44.0, 462.0, 351.0, 476.0, 374.0], [277.0, 151.0, 169.0, 110.0, 250.0, 260.0, 64.0, 277.0, 227.0, 123.0, 157.0, 152.0, 36.0, 229.0, 172.0, 194.0, 201.0, 248.0, 377.0, 284.0, 311.0, 0.0, 340.0, 266.0, 304.0, 120.0, 207.0, 70.0], [103.0, 464.0, 492.0, 340.0, 401.0, 426.0, 350.0, 347.0, 546.0, 361.0, 486.0, 486.0, 376.0, 303.0, 208.0, 273.0, 318.0, 193.0, 192.0, 264.0, 207.0, 340.0, 0.0, 210.0, 325.0, 435.0, 414.0, 410.0], [108.0, 327.0, 359.0, 334.0, 453.0, 473.0, 314.0, 434.0, 494.0, 356.0, 363.0, 415.0, 301.0, 378.0, 99.0, 93.0, 129.0, 304.0, 118.0, 380.0, 44.0, 266.0, 210.0, 0.0, 434.0, 306.0, 436.0, 329.0], [358.0, 452.0, 462.0, 204.0, 126.0, 146.0, 252.0, 43.0, 369.0, 205.0, 444.0, 361.0, 314.0, 74.0, 350.0, 422.0, 454.0, 137.0, 488.0, 61.0, 462.0, 304.0, 325.0, 434.0, 0.0, 421.0, 178.0, 337.0], [354.0, 31.0, 56.0, 219.0, 351.0, 356.0, 170.0, 391.0, 233.0, 225.0, 56.0, 149.0, 107.0, 347.0, 236.0, 215.0, 195.0, 368.0, 425.0, 405.0, 351.0, 120.0, 435.0, 306.0, 421.0, 0.0, 299.0, 94.0], [400.0, 324.0, 325.0, 104.0, 59.0, 57.0, 142.0, 134.0, 191.0, 85.0, 303.0, 197.0, 197.0, 131.0, 338.0, 387.0, 404.0, 235.0, 526.0, 205.0, 476.0, 207.0, 414.0, 436.0, 178.0, 299.0, 0.0, 204.0], [347.0, 119.0, 125.0, 133.0, 257.0, 262.0, 86.0, 304.0, 167.0, 135.0, 106.0, 85.0, 34.0, 264.0, 239.0, 248.0, 245.0, 305.0, 443.0, 329.0, 374.0, 70.0, 410.0, 329.0, 337.0, 94.0, 204.0, 0.0]]\n"
      ],
      "metadata": {
        "colab": {
          "base_uri": "https://localhost:8080/"
        },
        "id": "kM0sWUVRaat7",
        "outputId": "87bded10-f66f-4bbf-a81a-5d5129ab3822"
      },
      "execution_count": null,
      "outputs": [
        {
          "output_type": "execute_result",
          "data": {
            "text/plain": [
              "28"
            ]
          },
          "metadata": {},
          "execution_count": 20
        }
      ]
    },
    {
      "cell_type": "markdown",
      "metadata": {
        "id": "DBrHcJCKBbbE"
      },
      "source": [
        "# **Main Code**"
      ]
    },
    {
      "cell_type": "code",
      "metadata": {
        "id": "yj_pcb7Dmzue",
        "colab": {
          "base_uri": "https://localhost:8080/"
        },
        "outputId": "59d3f5b6-6fa9-4135-cd9f-c818075f650d"
      },
      "source": [
        "results = []\n",
        "for i in range(100):                                                              #################### change ####################### 10-1\n",
        "    for spt in spoil_time :\n",
        "        the_size = spt*200 ############## 200 ==>\n",
        "        for prb in range(7):                                                \n",
        "            start = process_time()\n",
        "            donation_da = Read_donation(dons[prb]) \n",
        "            donation_data = np.array([np.array(xi) for xi in donation_da])\n",
        "            location_data = Read_location(locs[prb])  \n",
        "            total_distance = np.array([np.array(xi) for xi in location_data])\n",
        "            backup_donation_data = dc(donation_data)\n",
        "            roots = chrom_pool (donation_data,spt,the_size,total_distance)\n",
        "            population_size = int(10 * np.ceil(np.log(len(roots))))             ############### 10 ===> \n",
        "            work_hours = 1500+spt\n",
        "            min_test = dc(minTest(roots,total_distance))\n",
        "            best_result = []\n",
        "            best_sequence = []\n",
        "            best_time = []\n",
        "            for vehicle in range(vehicle_num[prb]):    \n",
        "\n",
        "        # '''============================|initial population|=================================='''\n",
        "                population,population_timing = initial_population(population_size,roots,min_test,work_hours,donation_data,spt,total_distance)\n",
        "        # '''============================|initial fitness|=================================='''\n",
        "                fitness = []\n",
        "                for i in range(len(population)): \n",
        "                    fitness.append(multi_healthy_collected_plt(population[i],population_timing[i],donation_data,spt,total_distance))    \n",
        "################### ok\n",
        "                f_min, f_max = min(fitness),max(fitness)\n",
        "                seed_min, seed_max, p_max = 0,10, population_size    ############ 1 ==> 0\n",
        "                seed_num = []\n",
        "                for i in range(len(population)):\n",
        "                    seed_num.append(int(seed_min + (seed_max - seed_min)*(fitness[i]-f_min)/(f_max-f_min)))\n",
        "\n",
        "\n",
        "\n",
        "################### تعداد سید ها چقد تولیدمثل کنن معلوم شد\n",
        "                for iter in range(MaxIter):#############\n",
        "                    for i in seed_num:\n",
        "                        for j in range(seed_num[i]):\n",
        "                            temp_pop,temp_time = dc(two_opt(population[i],total_distance,spt, iter, MaxIter, sigma_initial,sigma_final,roots))\n",
        "                            population.append(temp_pop)\n",
        "                            population_timing.append(temp_time)\n",
        "                            fitness.append(multi_healthy_collected_plt(temp_pop,temp_time,donation_data,spt,total_distance)) \n",
        "################### سید های جدید به جمعیت اولیه افزوده شد\n",
        "                    fitness,population,population_timing = dc(weak_del (fitness,population,population_timing,p_max))\n",
        "\n",
        "\n",
        "\n",
        "\n",
        "\n",
        "################### ضعیف ها حذف شدند\n",
        "                    for k in range(len(population)):\n",
        "                        if len(population[k]) != len(population_timing[k]):\n",
        "                            print('this is the mistake')\n",
        "        # '''============================|result|=================================='''\n",
        "                maxpos = fitness.index(max(fitness)) \n",
        "                best_result.append(fitness[maxpos])\n",
        "                best_sequence.append(population[maxpos])\n",
        "                best_time.append(population_timing[maxpos])\n",
        "                donation_data = updating_donation_list (best_sequence[-1],best_time[-1],donation_data,total_distance)\n",
        "            end = process_time()\n",
        "            print(f'instance #{prb+1} CP is {sum(best_result)} in {end - start} seconds')\n",
        "            results.append([prb+1,sum(best_result),end - start])\n",
        "            # time_conflict(best_sequence,best_time,total_distance)\n",
        "            # CP_check(donation_data,best_result)\n",
        "            # counting_check (best_sequence,best_time,backup_donation_data,total_distance,spt,best_result)"
      ],
      "execution_count": null,
      "outputs": [
        {
          "output_type": "stream",
          "name": "stderr",
          "text": [
            "/usr/local/lib/python3.7/dist-packages/ipykernel_launcher.py:7: VisibleDeprecationWarning: Creating an ndarray from ragged nested sequences (which is a list-or-tuple of lists-or-tuples-or ndarrays with different lengths or shapes) is deprecated. If you meant to do this, you must specify 'dtype=object' when creating the ndarray\n",
            "  import sys\n"
          ]
        },
        {
          "output_type": "stream",
          "name": "stdout",
          "text": [
            "instance #1 CP is 111 in 63.186308565000004 seconds\n",
            "\n",
            "instance #2 CP is 195 in 184.313966761 seconds\n",
            "\n",
            "instance #3 CP is 223 in 150.60327243800003 seconds\n",
            "\n",
            "instance #4 CP is 390 in 326.668444924 seconds\n",
            "\n",
            "instance #5 CP is 321 in 313.0287328879999 seconds\n",
            "\n",
            "instance #6 CP is 259 in 203.29180201999998 seconds\n",
            "\n",
            "instance #7 CP is 329 in 328.309535159 seconds\n",
            "\n",
            "instance #1 CP is 231 in 165.1743435530002 seconds\n",
            "\n",
            "instance #2 CP is 369 in 267.31851367900003 seconds\n",
            "\n",
            "instance #3 CP is 397 in 230.82869907100007 seconds\n",
            "\n",
            "instance #4 CP is 539 in 382.80125399300005 seconds\n",
            "\n",
            "instance #5 CP is 585 in 462.73263468899995 seconds\n",
            "\n",
            "instance #6 CP is 573 in 607.059955408 seconds\n",
            "\n",
            "instance #7 CP is 584 in 457.49282666999943 seconds\n",
            "\n",
            "instance #1 CP is 418 in 191.31499689800057 seconds\n",
            "\n",
            "instance #2 CP is 486 in 275.10718143099984 seconds\n",
            "\n",
            "instance #3 CP is 507 in 279.40323456699934 seconds\n",
            "\n",
            "instance #4 CP is 715 in 313.7432760949996 seconds\n",
            "\n",
            "instance #5 CP is 756 in 355.09681768799965 seconds\n",
            "\n",
            "instance #6 CP is 740 in 407.4480513210001 seconds\n",
            "\n",
            "instance #7 CP is 797 in 529.7624760210001 seconds\n",
            "\n",
            "instance #1 CP is 116 in 55.99168938999992 seconds\n",
            "\n",
            "instance #2 CP is 191 in 163.94636390699998 seconds\n",
            "\n",
            "instance #3 CP is 226 in 140.9590020300002 seconds\n",
            "\n",
            "instance #4 CP is 381 in 264.3774349569994 seconds\n",
            "\n",
            "instance #5 CP is 332 in 323.5478101610006 seconds\n",
            "\n",
            "instance #6 CP is 262 in 231.11897112399947 seconds\n",
            "\n",
            "instance #7 CP is 327 in 388.44516251300047 seconds\n",
            "\n",
            "instance #1 CP is 232 in 165.98911707200023 seconds\n",
            "\n",
            "instance #2 CP is 354 in 280.4821634109994 seconds\n",
            "\n",
            "instance #3 CP is 385 in 256.46370272199965 seconds\n",
            "\n"
          ]
        }
      ]
    },
    {
      "cell_type": "markdown",
      "metadata": {
        "id": "FvS4eJVFcu9x"
      },
      "source": []
    },
    {
      "cell_type": "markdown",
      "metadata": {
        "id": "wXo9earFI5Mx"
      },
      "source": []
    },
    {
      "cell_type": "markdown",
      "metadata": {
        "id": "S5ejbkZbJP1x"
      },
      "source": []
    },
    {
      "cell_type": "markdown",
      "metadata": {
        "id": "fEzxu1Q3JtIk"
      },
      "source": []
    },
    {
      "cell_type": "markdown",
      "metadata": {
        "id": "FRWrSNcFKKbk"
      },
      "source": []
    },
    {
      "cell_type": "markdown",
      "metadata": {
        "id": "tOAIj6aPKnun"
      },
      "source": []
    },
    {
      "cell_type": "markdown",
      "metadata": {
        "id": "zucKV7rOLFB8"
      },
      "source": []
    },
    {
      "cell_type": "markdown",
      "metadata": {
        "id": "RQ6BkhhXLiUr"
      },
      "source": []
    },
    {
      "cell_type": "markdown",
      "metadata": {
        "id": "6ASwOoVLL_nn"
      },
      "source": []
    },
    {
      "cell_type": "markdown",
      "metadata": {
        "id": "QLBUwXioMc6u"
      },
      "source": []
    },
    {
      "cell_type": "markdown",
      "metadata": {
        "id": "Er9Y__PBM6Nl"
      },
      "source": []
    },
    {
      "cell_type": "markdown",
      "metadata": {
        "id": "EYn980iANXgx"
      },
      "source": []
    },
    {
      "cell_type": "markdown",
      "metadata": {
        "id": "m1_95Bg7N0zo"
      },
      "source": []
    },
    {
      "cell_type": "markdown",
      "metadata": {
        "id": "czlBmDyzOSGm"
      },
      "source": []
    },
    {
      "cell_type": "markdown",
      "metadata": {
        "id": "uhTHskHhOvZl"
      },
      "source": []
    },
    {
      "cell_type": "markdown",
      "metadata": {
        "id": "a23VAWDQPMso"
      },
      "source": []
    },
    {
      "cell_type": "markdown",
      "metadata": {
        "id": "Pwx9yxmcPp_j"
      },
      "source": []
    },
    {
      "cell_type": "markdown",
      "metadata": {
        "id": "ZBqOuErVQHSr"
      },
      "source": []
    },
    {
      "cell_type": "markdown",
      "metadata": {
        "id": "2GoZV6qrQklr"
      },
      "source": []
    },
    {
      "cell_type": "markdown",
      "metadata": {
        "id": "hwrgRDWMRB41"
      },
      "source": []
    },
    {
      "cell_type": "markdown",
      "metadata": {
        "id": "LWys2ICjRfLw"
      },
      "source": []
    },
    {
      "cell_type": "markdown",
      "metadata": {
        "id": "YJ5ik2f4R8eu"
      },
      "source": []
    }
  ]
}